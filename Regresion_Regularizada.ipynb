{
  "nbformat": 4,
  "nbformat_minor": 0,
  "metadata": {
    "colab": {
      "provenance": [],
      "toc_visible": true,
      "authorship_tag": "ABX9TyMRmfIG1Nm+xcji30OorsHC",
      "include_colab_link": true
    },
    "kernelspec": {
      "name": "python3",
      "display_name": "Python 3"
    },
    "language_info": {
      "name": "python"
    }
  },
  "cells": [
    {
      "cell_type": "markdown",
      "metadata": {
        "id": "view-in-github",
        "colab_type": "text"
      },
      "source": [
        "<a href=\"https://colab.research.google.com/github/4GeeksAcademy/Regresion-Regularizada-python-template/blob/main/Regresion_Regularizada.ipynb\" target=\"_parent\"><img src=\"https://colab.research.google.com/assets/colab-badge.svg\" alt=\"Open In Colab\"/></a>"
      ]
    },
    {
      "cell_type": "markdown",
      "source": [],
      "metadata": {
        "id": "lnXj9XwO7CUp"
      }
    },
    {
      "cell_type": "markdown",
      "source": [
        "# 1.Analisis exploratorio"
      ],
      "metadata": {
        "id": "F2umYEjy7EFx"
      }
    }
  ]
}